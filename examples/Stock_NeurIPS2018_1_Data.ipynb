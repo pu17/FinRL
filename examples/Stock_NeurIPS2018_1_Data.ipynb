{
  "cells": [
    {
      "cell_type": "markdown",
      "metadata": {
        "id": "Sy8r7_g5WjAT"
      },
      "source": [
        "# Stock NeurIPS2018 Part 1. Data\n",
        "This series is a reproduction of paper *the process in the paper Practical Deep Reinforcement Learning Approach for Stock Trading*. \n",
        "\n",
        "This is the first part of the NeurIPS2018 series, introducing how to use FinRL to fetch and process data that we need for ML/RL trading.\n",
        "\n",
        "Other demos can be found at the repo of [FinRL-Tutorials]((https://github.com/AI4Finance-Foundation/FinRL-Tutorials))."
      ]
    },
    {
      "cell_type": "markdown",
      "metadata": {
        "id": "2uH1KXctgnoJ"
      },
      "source": [
        "# Part 1. Install Packages"
      ]
    },
    {
      "cell_type": "code",
      "execution_count": 16,
      "metadata": {
        "id": "a2oD49e_N_05"
      },
      "outputs": [
        {
          "name": "stdout",
          "output_type": "stream",
          "text": [
            "Collecting git+https://github.com/AI4Finance-Foundation/FinRL.git\n",
            "  Cloning https://github.com/AI4Finance-Foundation/FinRL.git to /private/var/folders/k3/x2ny3m2d3y57h8xp7cr2qxv80000gn/T/pip-req-build-ctscqes7\n",
            "  Running command git clone --filter=blob:none --quiet https://github.com/AI4Finance-Foundation/FinRL.git /private/var/folders/k3/x2ny3m2d3y57h8xp7cr2qxv80000gn/T/pip-req-build-ctscqes7\n",
            "  error: RPC failed; curl 92 HTTP/2 stream 3 was not closed cleanly: CANCEL (err 8)\n",
            "  error: 275 bytes of body are still expected\n",
            "  fetch-pack: unexpected disconnect while reading sideband packet\n",
            "  fatal: early EOF\n",
            "  fatal: index-pack failed\n",
            "  Auto packing the repository in background for optimum performance.\n",
            "  See \"git help gc\" for manual housekeeping.\n",
            "  Auto packing the repository in background for optimum performance.\n",
            "  See \"git help gc\" for manual housekeeping.\n",
            "  Auto packing the repository in background for optimum performance.\n",
            "  See \"git help gc\" for manual housekeeping.\n",
            "  Auto packing the repository in background for optimum performance.\n",
            "  See \"git help gc\" for manual housekeeping.\n",
            "  Auto packing the repository in background for optimum performance.\n",
            "  See \"git help gc\" for manual housekeeping.\n",
            "  Auto packing the repository in background for optimum performance.\n",
            "  See \"git help gc\" for manual housekeeping.\n",
            "  Auto packing the repository in background for optimum performance.\n",
            "  See \"git help gc\" for manual housekeeping.\n",
            "  Auto packing the repository in background for optimum performance.\n",
            "  See \"git help gc\" for manual housekeeping.\n",
            "  Auto packing the repository in background for optimum performance.\n",
            "  See \"git help gc\" for manual housekeeping.\n",
            "  Auto packing the repository in background for optimum performance.\n",
            "  See \"git help gc\" for manual housekeeping.\n",
            "  Auto packing the repository in background for optimum performance.\n",
            "  See \"git help gc\" for manual housekeeping.\n",
            "  Resolved https://github.com/AI4Finance-Foundation/FinRL.git to commit fb330fab0d6336c190f1173dcdc36c729e95352b\n",
            "  Installing build dependencies ... \u001b[?25ldone\n",
            "\u001b[?25h  Getting requirements to build wheel ... \u001b[?25ldone\n",
            "\u001b[?25h  Preparing metadata (pyproject.toml) ... \u001b[?25ldone\n",
            "\u001b[?25hCollecting elegantrl@ git+https://github.com/AI4Finance-Foundation/ElegantRL.git#egg=elegantrl (from finrl==0.3.6)\n",
            "  Cloning https://github.com/AI4Finance-Foundation/ElegantRL.git to /private/var/folders/k3/x2ny3m2d3y57h8xp7cr2qxv80000gn/T/pip-install-epyn0n44/elegantrl_d582bb611b3d4b279413d4a7636f77a0\n",
            "  Running command git clone --filter=blob:none --quiet https://github.com/AI4Finance-Foundation/ElegantRL.git /private/var/folders/k3/x2ny3m2d3y57h8xp7cr2qxv80000gn/T/pip-install-epyn0n44/elegantrl_d582bb611b3d4b279413d4a7636f77a0\n",
            "  error: RPC failed; curl 92 HTTP/2 stream 3 was not closed cleanly: CANCEL (err 8)\n",
            "  error: 4136 bytes of body are still expected\n",
            "  fetch-pack: unexpected disconnect while reading sideband packet\n",
            "  fatal: early EOF\n",
            "  fatal: index-pack failed\n",
            "  Auto packing the repository in background for optimum performance.\n",
            "  See \"git help gc\" for manual housekeeping.\n",
            "  Auto packing the repository in background for optimum performance.\n",
            "  See \"git help gc\" for manual housekeeping.\n",
            "  Auto packing the repository in background for optimum performance.\n",
            "  See \"git help gc\" for manual housekeeping.\n",
            "  Auto packing the repository in background for optimum performance.\n",
            "  See \"git help gc\" for manual housekeeping.\n",
            "  Auto packing the repository in background for optimum performance.\n",
            "  See \"git help gc\" for manual housekeeping.\n",
            "  Auto packing the repository in background for optimum performance.\n",
            "  See \"git help gc\" for manual housekeeping.\n",
            "  Auto packing the repository in background for optimum performance.\n",
            "  See \"git help gc\" for manual housekeeping.\n",
            "  Auto packing the repository in background for optimum performance.\n",
            "  See \"git help gc\" for manual housekeeping.\n",
            "  Auto packing the repository in background for optimum performance.\n",
            "  See \"git help gc\" for manual housekeeping.\n",
            "  fatal: unable to access 'https://github.com/AI4Finance-Foundation/ElegantRL.git/': SSL connection timeout\n",
            "  fatal: unable to access 'https://github.com/AI4Finance-Foundation/ElegantRL.git/': Could not resolve host: github.com\n",
            "  error: unable to read sha1 file of rlsolver/data/syn_ER/erdos_renyi_100_ID0.txt (514e4707f42c223f53da139a818412e374a16164)\n",
            "  fatal: unable to access 'https://github.com/AI4Finance-Foundation/ElegantRL.git/': Could not resolve host: github.com\n",
            "  fatal: unable to access 'https://github.com/AI4Finance-Foundation/ElegantRL.git/': Could not resolve host: github.com\n",
            "  error: unable to read sha1 file of rlsolver/data/syn_PL/powerlaw_100_ID0.txt (f1ae3d21bdc5555a748e4376adc410f928af0899)\n",
            "  fatal: unable to access 'https://github.com/AI4Finance-Foundation/ElegantRL.git/': Could not resolve host: github.com\n",
            "  fatal: unable to access 'https://github.com/AI4Finance-Foundation/ElegantRL.git/': Could not resolve host: github.com\n",
            "  error: unable to read sha1 file of rlsolver/data/tsplib/att48.tsp (a1cf11e244b1aa4c2e386d2d0ae3e46ec2c194e2)\n",
            "  fatal: unable to access 'https://github.com/AI4Finance-Foundation/ElegantRL.git/': Could not resolve host: github.com\n",
            "  fatal: unable to access 'https://github.com/AI4Finance-Foundation/ElegantRL.git/': Could not resolve host: github.com\n",
            "  error: unable to read sha1 file of rlsolver/docs/make.bat (4d9eb83d9f9309029f4b14ff09024658bb0f5563)\n",
            "  fatal: unable to access 'https://github.com/AI4Finance-Foundation/ElegantRL.git/': Could not resolve host: github.com\n",
            "  fatal: unable to access 'https://github.com/AI4Finance-Foundation/ElegantRL.git/': Could not resolve host: github.com\n",
            "  error: unable to read sha1 file of rlsolver/docs/source/about/overview.rst (4e11fd5df5de00c6672ae3c4582f9b5bfd61f6eb)\n",
            "  fatal: unable to access 'https://github.com/AI4Finance-Foundation/ElegantRL.git/': Could not resolve host: github.com\n",
            "  fatal: unable to access 'https://github.com/AI4Finance-Foundation/ElegantRL.git/': Could not resolve host: github.com\n",
            "  error: unable to read sha1 file of rlsolver/docs/source/algorithms/REINFORCE.rst (4d30c25bd294fb65ef47956169b5017043dc3da6)\n",
            "  fatal: unable to access 'https://github.com/AI4Finance-Foundation/ElegantRL.git/': Could not resolve host: github.com\n",
            "  fatal: unable to access 'https://github.com/AI4Finance-Foundation/ElegantRL.git/': Could not resolve host: github.com\n",
            "  error: unable to read sha1 file of rlsolver/docs/source/api/config.rst (bbb29c6b8884bc5a32f32179cf2b1b04025465c2)\n",
            "  fatal: unable to access 'https://github.com/AI4Finance-Foundation/ElegantRL.git/': Could not resolve host: github.com\n",
            "  fatal: unable to access 'https://github.com/AI4Finance-Foundation/ElegantRL.git/': Could not resolve host: github.com\n",
            "  error: unable to read sha1 file of rlsolver/docs/source/conf.py (397f9801898d18d22ebe337b95c99e00628961db)\n",
            "  fatal: unable to access 'https://github.com/AI4Finance-Foundation/ElegantRL.git/': Could not resolve host: github.com\n",
            "  fatal: unable to access 'https://github.com/AI4Finance-Foundation/ElegantRL.git/': Could not resolve host: github.com\n",
            "  error: unable to read sha1 file of rlsolver/docs/source/helloworld/quickstart.rst (60bb8c8a94778d0043957035a49bde9afa72491d)\n",
            "  fatal: unable to access 'https://github.com/AI4Finance-Foundation/ElegantRL.git/': Could not resolve host: github.com\n",
            "  fatal: unable to access 'https://github.com/AI4Finance-Foundation/ElegantRL.git/': Could not resolve host: github.com\n",
            "  error: unable to read sha1 file of rlsolver/docs/source/index.rst (70fa0bcc4cc122a8f792cc170a116aee54e1b907)\n",
            "  fatal: unable to access 'https://github.com/AI4Finance-Foundation/ElegantRL.git/': Could not resolve host: github.com\n",
            "  fatal: unable to access 'https://github.com/AI4Finance-Foundation/ElegantRL.git/': Could not resolve host: github.com\n",
            "  error: unable to read sha1 file of rlsolver/docs/source/other/faq.rst (a36fbdbbb23663ff28719e8c08286310055dbe74)\n",
            "  fatal: unable to access 'https://github.com/AI4Finance-Foundation/ElegantRL.git/': Could not resolve host: github.com\n",
            "  fatal: unable to access 'https://github.com/AI4Finance-Foundation/ElegantRL.git/': Could not resolve host: github.com\n",
            "  error: unable to read sha1 file of rlsolver/docs/source/tutorial/maxcut.rst (0fc85fbfdf487a6a6ec67f845b1def843e5e39d3)\n",
            "  fatal: unable to access 'https://github.com/AI4Finance-Foundation/ElegantRL.git/': Could not resolve host: github.com\n",
            "  fatal: unable to access 'https://github.com/AI4Finance-Foundation/ElegantRL.git/': Could not resolve host: github.com\n",
            "  error: unable to read sha1 file of rlsolver/envs/env_isco_maxcut.py (111687a2a66e1656bf3e315ba1911cdeabd60c30)\n",
            "  fatal: unable to access 'https://github.com/AI4Finance-Foundation/ElegantRL.git/': Could not resolve host: github.com\n",
            "  fatal: unable to access 'https://github.com/AI4Finance-Foundation/ElegantRL.git/': Could not resolve host: github.com\n",
            "  error: unable to read sha1 file of rlsolver/envs/env_isco_mis.py (0c71acb154d4ca16b42b3126147242085695d1aa)\n",
            "  fatal: unable to access 'https://github.com/AI4Finance-Foundation/ElegantRL.git/': Could not resolve host: github.com\n",
            "  fatal: unable to access 'https://github.com/AI4Finance-Foundation/ElegantRL.git/': Could not resolve host: github.com\n",
            "  error: unable to read sha1 file of rlsolver/envs/env_isco_tsp.py (bebe526c0c8b0a6cd5bb112a8516e3177a600984)\n",
            "  fatal: unable to access 'https://github.com/AI4Finance-Foundation/ElegantRL.git/': Could not resolve host: github.com\n",
            "  fatal: unable to access 'https://github.com/AI4Finance-Foundation/ElegantRL.git/': Could not resolve host: github.com\n",
            "  error: unable to read sha1 file of rlsolver/envs/env_l2a_TNCO.py (8f2aeed136cd8bc3f122b307cd37ad861d5a39d7)\n",
            "  fatal: unable to access 'https://github.com/AI4Finance-Foundation/ElegantRL.git/': Could not resolve host: github.com\n",
            "  fatal: unable to access 'https://github.com/AI4Finance-Foundation/ElegantRL.git/': Could not resolve host: github.com\n",
            "  error: unable to read sha1 file of rlsolver/envs/env_l2a_maxcut.py (5b1dcb74e9af24629f25bdc689fcd7ec91c36238)\n",
            "  fatal: unable to access 'https://github.com/AI4Finance-Foundation/ElegantRL.git/': Could not resolve host: github.com\n",
            "  fatal: unable to access 'https://github.com/AI4Finance-Foundation/ElegantRL.git/': Could not resolve host: github.com\n",
            "  error: unable to read sha1 file of rlsolver/envs/env_mcpg_maxcut.py (a71f2c9b8fc4873e7afe95b0c9f11021174e4b71)\n",
            "  fatal: unable to access 'https://github.com/AI4Finance-Foundation/ElegantRL.git/': Could not resolve host: github.com\n",
            "  fatal: unable to access 'https://github.com/AI4Finance-Foundation/ElegantRL.git/': Could not resolve host: github.com\n",
            "  error: unable to read sha1 file of rlsolver/envs/env_ppo_maxcut.py (fd9221680dd589f2038d29ad2e10877a6aa49b83)\n",
            "  fatal: unable to access 'https://github.com/AI4Finance-Foundation/ElegantRL.git/': Could not resolve host: github.com\n",
            "  fatal: unable to access 'https://github.com/AI4Finance-Foundation/ElegantRL.git/': Could not resolve host: github.com\n",
            "  error: unable to read sha1 file of rlsolver/fig/RLSolver_framework.png (81522d897e5ee310a61bba4e616f53ba6a5b3a23)\n",
            "  fatal: unable to access 'https://github.com/AI4Finance-Foundation/ElegantRL.git/': Could not resolve host: github.com\n",
            "  fatal: unable to access 'https://github.com/AI4Finance-Foundation/ElegantRL.git/': Could not resolve host: github.com\n",
            "  error: unable to read sha1 file of rlsolver/fig/RLSolver_structure.png (ca41df60c7274995e5456e96f20fbbd7f19e1538)\n",
            "  fatal: unable to access 'https://github.com/AI4Finance-Foundation/ElegantRL.git/': Could not resolve host: github.com\n",
            "  fatal: unable to access 'https://github.com/AI4Finance-Foundation/ElegantRL.git/': Could not resolve host: github.com\n",
            "  error: unable to read sha1 file of rlsolver/fig/objectives_epochs.png (59a9fe73f763cdae1f1d2cbc9727cd66c0075646)\n",
            "  fatal: unable to access 'https://github.com/AI4Finance-Foundation/ElegantRL.git/': Could not resolve host: github.com\n",
            "  fatal: unable to access 'https://github.com/AI4Finance-Foundation/ElegantRL.git/': Could not resolve host: github.com\n",
            "  error: unable to read sha1 file of rlsolver/fig/parallel_sims_maxcut.png (7e56ea511dfce3c9f301545301762dfbd2fa377d)\n",
            "  fatal: unable to access 'https://github.com/AI4Finance-Foundation/ElegantRL.git/': Could not resolve host: github.com\n",
            "  fatal: unable to access 'https://github.com/AI4Finance-Foundation/ElegantRL.git/': Could not resolve host: github.com\n",
            "  error: unable to read sha1 file of rlsolver/fig/parallel_sims_pattern.png (17c6803a9904336036d729d41508e9fc1d8884c0)\n",
            "  fatal: unable to access 'https://github.com/AI4Finance-Foundation/ElegantRL.git/': Could not resolve host: github.com\n",
            "  fatal: unable to access 'https://github.com/AI4Finance-Foundation/ElegantRL.git/': Could not resolve host: github.com\n",
            "  error: unable to read sha1 file of rlsolver/fig/sampling_efficiency_maxcut.png (e7cdd8048fda27341d4c61e7fe617be3af2606a7)\n",
            "  fatal: unable to access 'https://github.com/AI4Finance-Foundation/ElegantRL.git/': Could not resolve host: github.com\n",
            "  fatal: unable to access 'https://github.com/AI4Finance-Foundation/ElegantRL.git/': Could not resolve host: github.com\n",
            "  error: unable to read sha1 file of rlsolver/fig/speed_up_maxcut1.png (eab5d8040f2b926a50f18101a1e4d06b98ff1370)\n",
            "  fatal: unable to access 'https://github.com/AI4Finance-Foundation/ElegantRL.git/': Could not resolve host: github.com\n",
            "  fatal: unable to access 'https://github.com/AI4Finance-Foundation/ElegantRL.git/': Could not resolve host: github.com\n",
            "  error: unable to read sha1 file of rlsolver/fig/speed_up_maxcut2.png (fe4d4fcc015d2edf52330b5dad19378366688561)\n",
            "  fatal: unable to access 'https://github.com/AI4Finance-Foundation/ElegantRL.git/': Could not resolve host: github.com\n",
            "  fatal: unable to access 'https://github.com/AI4Finance-Foundation/ElegantRL.git/': Could not resolve host: github.com\n",
            "  error: unable to read sha1 file of rlsolver/fig/work_flow.png (4fc7658ebf34f6f883d07597833b927ad2c7795a)\n",
            "  fatal: unable to access 'https://github.com/AI4Finance-Foundation/ElegantRL.git/': Could not resolve host: github.com\n",
            "  fatal: unable to access 'https://github.com/AI4Finance-Foundation/ElegantRL.git/': Could not resolve host: github.com\n",
            "  error: unable to read sha1 file of rlsolver/main.py (fb6a8cc69871cdad74acc801b2d7e759108fd474)\n",
            "  fatal: unable to access 'https://github.com/AI4Finance-Foundation/ElegantRL.git/': Could not resolve host: github.com\n",
            "  fatal: unable to access 'https://github.com/AI4Finance-Foundation/ElegantRL.git/': Could not resolve host: github.com\n",
            "  error: unable to read sha1 file of rlsolver/methods/L2A/TNCO_local_search.py (70a40873fe01397b71f2d80c76c251313f10e7e5)\n",
            "  fatal: unable to access 'https://github.com/AI4Finance-Foundation/ElegantRL.git/': Could not resolve host: github.com\n",
            "  fatal: unable to access 'https://github.com/AI4Finance-Foundation/ElegantRL.git/': Could not resolve host: github.com\n",
            "  error: unable to read sha1 file of rlsolver/methods/L2A/TNCO_mh_sampling.py (64e772457182adbe29c63bfb18ccd1281c11bca9)\n",
            "  fatal: unable to access 'https://github.com/AI4Finance-Foundation/ElegantRL.git/': Could not resolve host: github.com\n",
            "  fatal: unable to access 'https://github.com/AI4Finance-Foundation/ElegantRL.git/': Could not resolve host: github.com\n",
            "  error: unable to read sha1 file of rlsolver/methods/L2A/TNCO_simulator.py (a8738dd054b14b54eaf86cdf12d5f80540c7829d)\n",
            "  fatal: unable to access 'https://github.com/AI4Finance-Foundation/ElegantRL.git/': Could not resolve host: github.com\n",
            "  fatal: unable to access 'https://github.com/AI4Finance-Foundation/ElegantRL.git/': Could not resolve host: github.com\n",
            "  error: unable to read sha1 file of rlsolver/methods/L2A/config.py (630620784e2508887a38d60419b78640cf8749dc)\n",
            "  fatal: unable to access 'https://github.com/AI4Finance-Foundation/ElegantRL.git/': Could not resolve host: github.com\n",
            "  fatal: unable to access 'https://github.com/AI4Finance-Foundation/ElegantRL.git/': Could not resolve host: github.com\n",
            "  error: unable to read sha1 file of rlsolver/methods/L2A/evaluator.py (3047971a1bad8feb6b5a88f815f6561606f53d80)\n",
            "  fatal: unable to access 'https://github.com/AI4Finance-Foundation/ElegantRL.git/': Could not resolve host: github.com\n",
            "  fatal: unable to access 'https://github.com/AI4Finance-Foundation/ElegantRL.git/': Could not resolve host: github.com\n",
            "  error: unable to read sha1 file of rlsolver/methods/L2A/graph_embedding_pretrain.py (7753f7e7a9155f847532de64d9d07490564d607a)\n",
            "  fatal: unable to access 'https://github.com/AI4Finance-Foundation/ElegantRL.git/': Could not resolve host: github.com\n",
            "  fatal: unable to access 'https://github.com/AI4Finance-Foundation/ElegantRL.git/': Could not resolve host: github.com\n",
            "  error: unable to read sha1 file of rlsolver/methods/L2A/graph_load_from_gurobi_results.py (5b2be0dbc13a4acb131912693b0fe14205b3ae45)\n",
            "  fatal: unable to access 'https://github.com/AI4Finance-Foundation/ElegantRL.git/': Could not resolve host: github.com\n",
            "  fatal: unable to access 'https://github.com/AI4Finance-Foundation/ElegantRL.git/': Could not resolve host: github.com\n",
            "  error: unable to read sha1 file of rlsolver/methods/L2A/graph_utils.py (dac1fc4006b13d33df5c05850c5a8367e964f46c)\n",
            "  fatal: unable to access 'https://github.com/AI4Finance-Foundation/ElegantRL.git/': Could not resolve host: github.com\n",
            "  fatal: unable to access 'https://github.com/AI4Finance-Foundation/ElegantRL.git/': Could not resolve host: github.com\n",
            "  error: unable to read sha1 file of rlsolver/methods/L2A/maxcut_end2end.py (4c9ca1b98210998a96dd92bea156ddc1497724da)\n",
            "  fatal: unable to access 'https://github.com/AI4Finance-Foundation/ElegantRL.git/': Could not resolve host: github.com\n",
            "  fatal: unable to access 'https://github.com/AI4Finance-Foundation/ElegantRL.git/': Could not resolve host: github.com\n",
            "  error: unable to read sha1 file of rlsolver/methods/L2A/maxcut_local_search.py (5ebb20d1d57856f9a91263ccfabd9ffa00eedc39)\n",
            "  fatal: unable to access 'https://github.com/AI4Finance-Foundation/ElegantRL.git/': Could not resolve host: github.com\n",
            "  fatal: unable to access 'https://github.com/AI4Finance-Foundation/ElegantRL.git/': Could not resolve host: github.com\n",
            "  error: unable to read sha1 file of rlsolver/methods/L2A/maxcut_simulator.py (c97a89b24e6078d6226e2e8ae408276ebd80f669)\n",
            "  fatal: unable to access 'https://github.com/AI4Finance-Foundation/ElegantRL.git/': Could not resolve host: github.com\n",
            "  fatal: unable to access 'https://github.com/AI4Finance-Foundation/ElegantRL.git/': Could not resolve host: github.com\n",
            "  error: unable to read sha1 file of rlsolver/methods/L2A/network.py (718e1666b58bdc7b530859f62a726bb70c9c2e3a)\n",
            "  fatal: unable to access 'https://github.com/AI4Finance-Foundation/ElegantRL.git/': Could not resolve host: github.com\n",
            "  fatal: unable to access 'https://github.com/AI4Finance-Foundation/ElegantRL.git/': Could not resolve host: github.com\n",
            "  error: unable to read sha1 file of rlsolver/methods/PI-GNN/.gitignore (49599f5b8dc78878d191b8117b1fda295d2055bd)\n",
            "  fatal: unable to access 'https://github.com/AI4Finance-Foundation/ElegantRL.git/': Could not resolve host: github.com\n",
            "  fatal: unable to access 'https://github.com/AI4Finance-Foundation/ElegantRL.git/': Could not resolve host: github.com\n",
            "  error: unable to read sha1 file of rlsolver/methods/PI-GNN/LICENSE (48bad45c6b49c0100a92c5db53f037908dd42b3f)\n",
            "  fatal: unable to access 'https://github.com/AI4Finance-Foundation/ElegantRL.git/': Could not resolve host: github.com\n",
            "  fatal: unable to access 'https://github.com/AI4Finance-Foundation/ElegantRL.git/': Could not resolve host: github.com\n",
            "  error: unable to read sha1 file of rlsolver/methods/PI-GNN/README.md (595dd41e5f504ad4410b53c9e1a699e1c62c8b55)\n",
            "  fatal: unable to access 'https://github.com/AI4Finance-Foundation/ElegantRL.git/': Could not resolve host: github.com\n",
            "  fatal: unable to access 'https://github.com/AI4Finance-Foundation/ElegantRL.git/': Could not resolve host: github.com\n",
            "  error: unable to read sha1 file of rlsolver/methods/PI-GNN/data-helper.py (0da46babd2e8e7e44f26b784c605c00165141d08)\n",
            "  fatal: unable to access 'https://github.com/AI4Finance-Foundation/ElegantRL.git/': Could not resolve host: github.com\n",
            "  fatal: unable to access 'https://github.com/AI4Finance-Foundation/ElegantRL.git/': Could not resolve host: github.com\n",
            "  error: unable to read sha1 file of rlsolver/methods/PI-GNN/main.py (b70aa5c66fe8c76fba2e2ac432db818bcc28c74e)\n",
            "  fatal: unable to access 'https://github.com/AI4Finance-Foundation/ElegantRL.git/': Could not resolve host: github.com\n",
            "  fatal: unable to access 'https://github.com/AI4Finance-Foundation/ElegantRL.git/': Could not resolve host: github.com\n",
            "  error: unable to read sha1 file of rlsolver/methods/PI-GNN/params.py (11085fb5ed454a29e7afbe1529eb32443327862a)\n",
            "  fatal: unable to access 'https://github.com/AI4Finance-Foundation/ElegantRL.git/': Could not resolve host: github.com\n",
            "  fatal: unable to access 'https://github.com/AI4Finance-Foundation/ElegantRL.git/': Could not resolve host: github.com\n",
            "  error: unable to read sha1 file of rlsolver/methods/PI-GNN/utils.py (d0fe7f91062bed4aa94e3b8839434ab348816c00)\n",
            "  fatal: unable to access 'https://github.com/AI4Finance-Foundation/ElegantRL.git/': Could not resolve host: github.com\n",
            "  fatal: unable to access 'https://github.com/AI4Finance-Foundation/ElegantRL.git/': Could not resolve host: github.com\n",
            "  error: unable to read sha1 file of rlsolver/methods/RUN-CSP/LICENSE (f288702d2fa16d3cdf0035b15a9fcbc552cd88e7)\n",
            "  fatal: unable to access 'https://github.com/AI4Finance-Foundation/ElegantRL.git/': Could not resolve host: github.com\n",
            "  fatal: unable to access 'https://github.com/AI4Finance-Foundation/ElegantRL.git/': Could not resolve host: github.com\n",
            "  error: unable to read sha1 file of rlsolver/methods/RUN-CSP/README.md (b858ba92328d5ffb6db85e6c84b0a7484049b339)\n",
            "  fatal: unable to access 'https://github.com/AI4Finance-Foundation/ElegantRL.git/': Could not resolve host: github.com\n",
            "  fatal: unable to access 'https://github.com/AI4Finance-Foundation/ElegantRL.git/': Could not resolve host: github.com\n",
            "  error: unable to read sha1 file of rlsolver/methods/RUN-CSP/csp_utils.py (a8fece9684cebe8cd9f79e4d473114aabe5eff2d)\n",
            "  fatal: unable to access 'https://github.com/AI4Finance-Foundation/ElegantRL.git/': Could not resolve host: github.com\n",
            "  fatal: unable to access 'https://github.com/AI4Finance-Foundation/ElegantRL.git/': Could not resolve host: github.com\n",
            "  error: unable to read sha1 file of rlsolver/methods/RUN-CSP/data/G1.dimacs (ea46bdacc1413222bca5134a915c3d7ea2a2ee2e)\n",
            "  fatal: unable to access 'https://github.com/AI4Finance-Foundation/ElegantRL.git/': Could not resolve host: github.com\n",
            "  fatal: unable to access 'https://github.com/AI4Finance-Foundation/ElegantRL.git/': Could not resolve host: github.com\n",
            "  error: unable to read sha1 file of rlsolver/methods/RUN-CSP/data_utils.py (51cbb83bd407b9b9a9de01f91f5b0f38b3d20428)\n",
            "  fatal: unable to access 'https://github.com/AI4Finance-Foundation/ElegantRL.git/': Could not resolve host: github.com\n",
            "  fatal: unable to access 'https://github.com/AI4Finance-Foundation/ElegantRL.git/': Could not resolve host: github.com\n",
            "  error: unable to read sha1 file of rlsolver/methods/RUN-CSP/evaluate.py (9fe30deda222d5b3b3e50145b44d64dd64c4f4ab)\n",
            "  fatal: unable to access 'https://github.com/AI4Finance-Foundation/ElegantRL.git/': Could not resolve host: github.com\n",
            "  fatal: unable to access 'https://github.com/AI4Finance-Foundation/ElegantRL.git/': Could not resolve host: github.com\n",
            "  error: unable to read sha1 file of rlsolver/methods/RUN-CSP/evaluate_coloring.py (228ec471e23439720d4f7464670eb8a7af9bbd07)\n",
            "  fatal: unable to access 'https://github.com/AI4Finance-Foundation/ElegantRL.git/': Could not resolve host: github.com\n",
            "  fatal: unable to access 'https://github.com/AI4Finance-Foundation/ElegantRL.git/': Could not resolve host: github.com\n",
            "  error: unable to read sha1 file of rlsolver/methods/RUN-CSP/evaluate_max_2sat.py (2803814942cd00775baa3aeb22991c62e0561b95)\n",
            "  fatal: unable to access 'https://github.com/AI4Finance-Foundation/ElegantRL.git/': Could not resolve host: github.com\n",
            "  fatal: unable to access 'https://github.com/AI4Finance-Foundation/ElegantRL.git/': Could not resolve host: github.com\n",
            "  error: unable to read sha1 file of rlsolver/methods/RUN-CSP/evaluate_max_cut.py (32d547c739546218dbe0c9a0897391b4529e6072)\n",
            "  fatal: unable to access 'https://github.com/AI4Finance-Foundation/ElegantRL.git/': Could not resolve host: github.com\n",
            "  fatal: unable to access 'https://github.com/AI4Finance-Foundation/ElegantRL.git/': Could not resolve host: github.com\n",
            "  error: unable to read sha1 file of rlsolver/methods/RUN-CSP/evaluate_max_cut_regular.py (b01359e06f197949260fff8cd0c558809858725b)\n",
            "  fatal: unable to access 'https://github.com/AI4Finance-Foundation/ElegantRL.git/': Could not resolve host: github.com\n",
            "  fatal: unable to access 'https://github.com/AI4Finance-Foundation/ElegantRL.git/': Could not resolve host: github.com\n",
            "  error: unable to read sha1 file of rlsolver/methods/RUN-CSP/evaluate_max_is.py (56d042859a196169145f6f4715c122e1b2cbd6e6)\n",
            "  fatal: unable to access 'https://github.com/AI4Finance-Foundation/ElegantRL.git/': Could not resolve host: github.com\n",
            "  fatal: unable to access 'https://github.com/AI4Finance-Foundation/ElegantRL.git/': Could not resolve host: github.com\n",
            "  error: unable to read sha1 file of rlsolver/methods/RUN-CSP/evaluate_weighted_max_cut.py (d86a243cfd4a95278e321a2111ed6a11c3c734f7)\n",
            "  fatal: unable to access 'https://github.com/AI4Finance-Foundation/ElegantRL.git/': Could not resolve host: github.com\n",
            "  fatal: unable to access 'https://github.com/AI4Finance-Foundation/ElegantRL.git/': Could not resolve host: github.com\n",
            "  error: unable to read sha1 file of rlsolver/methods/RUN-CSP/example_language.json (2f651f220fda172329d1f7faf80dd0e067b5e50a)\n",
            "  fatal: unable to access 'https://github.com/AI4Finance-Foundation/ElegantRL.git/': Could not resolve host: github.com\n",
            "  fatal: unable to access 'https://github.com/AI4Finance-Foundation/ElegantRL.git/': Could not resolve host: github.com\n",
            "  error: unable to read sha1 file of rlsolver/methods/RUN-CSP/generate_xu_instances.py (c19795b5907c12f4e8322cb2809f036dfc7a363e)\n",
            "  fatal: unable to access 'https://github.com/AI4Finance-Foundation/ElegantRL.git/': Could not resolve host: github.com\n",
            "  fatal: unable to access 'https://github.com/AI4Finance-Foundation/ElegantRL.git/': Could not resolve host: github.com\n",
            "  error: unable to read sha1 file of rlsolver/methods/RUN-CSP/greedy_is.py (de0c10069c8d3bf8622c870b52358e8f108073a6)\n",
            "  fatal: unable to access 'https://github.com/AI4Finance-Foundation/ElegantRL.git/': Could not resolve host: github.com\n",
            "  fatal: unable to access 'https://github.com/AI4Finance-Foundation/ElegantRL.git/': Could not resolve host: github.com\n",
            "  error: unable to read sha1 file of rlsolver/methods/RUN-CSP/model.py (f32cee0076cc9fa46c3a1f8a2c0ecfe972b50aa7)\n",
            "  fatal: unable to access 'https://github.com/AI4Finance-Foundation/ElegantRL.git/': Could not resolve host: github.com\n",
            "  fatal: unable to access 'https://github.com/AI4Finance-Foundation/ElegantRL.git/': Could not resolve host: github.com\n",
            "  error: unable to read sha1 file of rlsolver/methods/RUN-CSP/requirements.txt (585ff6f018bdf20f6d4505a2b1453568f0a039ae)\n",
            "  fatal: unable to access 'https://github.com/AI4Finance-Foundation/ElegantRL.git/': Could not resolve host: github.com\n",
            "  fatal: unable to access 'https://github.com/AI4Finance-Foundation/ElegantRL.git/': Could not resolve host: github.com\n",
            "  error: unable to read sha1 file of rlsolver/methods/RUN-CSP/train.py (a5537ea932a13456e7accf310e18fb40cddf1368)\n",
            "  fatal: unable to access 'https://github.com/AI4Finance-Foundation/ElegantRL.git/': Could not resolve host: github.com\n",
            "  fatal: unable to access 'https://github.com/AI4Finance-Foundation/ElegantRL.git/': Could not resolve host: github.com\n",
            "  error: unable to read sha1 file of rlsolver/methods/RUN-CSP/train_coloring.py (c8ed2d26173d82e288bcc7e610f1964caf7dcf55)\n",
            "  fatal: unable to access 'https://github.com/AI4Finance-Foundation/ElegantRL.git/': Could not resolve host: github.com\n",
            "  fatal: unable to access 'https://github.com/AI4Finance-Foundation/ElegantRL.git/': Could not resolve host: github.com\n",
            "  error: unable to read sha1 file of rlsolver/methods/RUN-CSP/train_max_2sat.py (5374b9c15b100461d515f6f1c358d01b158511af)\n",
            "  fatal: unable to access 'https://github.com/AI4Finance-Foundation/ElegantRL.git/': Could not resolve host: github.com\n",
            "  fatal: unable to access 'https://github.com/AI4Finance-Foundation/ElegantRL.git/': Could not resolve host: github.com\n",
            "  error: unable to read sha1 file of rlsolver/methods/RUN-CSP/train_max_cut.py (946d81084dc313776acd1d338d8aab54fcbeb245)\n",
            "  fatal: unable to access 'https://github.com/AI4Finance-Foundation/ElegantRL.git/': Could not resolve host: github.com\n",
            "  fatal: unable to access 'https://github.com/AI4Finance-Foundation/ElegantRL.git/': Could not resolve host: github.com\n",
            "  error: unable to read sha1 file of rlsolver/methods/RUN-CSP/train_max_is.py (da3d1e3afee6b3e52f301ec697eb4c9c9f52f096)\n",
            "  fatal: unable to access 'https://github.com/AI4Finance-Foundation/ElegantRL.git/': Could not resolve host: github.com\n",
            "  fatal: unable to access 'https://github.com/AI4Finance-Foundation/ElegantRL.git/': Could not resolve host: github.com\n",
            "  error: unable to read sha1 file of rlsolver/methods/RUN-CSP/train_weighted_max_cut.py (1073e7650745e38b6b371b69060c9b8f29fe645e)\n",
            "  fatal: unable to access 'https://github.com/AI4Finance-Foundation/ElegantRL.git/': Could not resolve host: github.com\n",
            "  fatal: unable to access 'https://github.com/AI4Finance-Foundation/ElegantRL.git/': Could not resolve host: github.com\n",
            "  error: unable to read sha1 file of rlsolver/methods/__main__.py (ab30429c45afa7226fe8b719d9e6203f9119ef66)\n",
            "  fatal: unable to access 'https://github.com/AI4Finance-Foundation/ElegantRL.git/': Could not resolve host: github.com\n",
            "  fatal: unable to access 'https://github.com/AI4Finance-Foundation/ElegantRL.git/': Could not resolve host: github.com\n",
            "  error: unable to read sha1 file of rlsolver/methods/config.py (e16979f46ce562a1c6fc5d76cc625cbbb19276d7)\n",
            "  fatal: unable to access 'https://github.com/AI4Finance-Foundation/ElegantRL.git/': Could not resolve host: github.com\n",
            "  fatal: unable to access 'https://github.com/AI4Finance-Foundation/ElegantRL.git/': Could not resolve host: github.com\n",
            "  error: unable to read sha1 file of rlsolver/methods/genetic_algorithm.py (2f22481357887a07b485e0708d0752f77357a161)\n",
            "  fatal: unable to access 'https://github.com/AI4Finance-Foundation/ElegantRL.git/': Could not resolve host: github.com\n",
            "  fatal: unable to access 'https://github.com/AI4Finance-Foundation/ElegantRL.git/': Could not resolve host: github.com\n",
            "  error: unable to read sha1 file of rlsolver/methods/greedy.py (182302cacd2fdd146345f1125111a7259ae7f421)\n",
            "  fatal: unable to access 'https://github.com/AI4Finance-Foundation/ElegantRL.git/': Could not resolve host: github.com\n",
            "  fatal: unable to access 'https://github.com/AI4Finance-Foundation/ElegantRL.git/': Could not resolve host: github.com\n",
            "  error: unable to read sha1 file of rlsolver/methods/gurobi.py (919edf1ae58dd144c67f5139e93246fe327f3545)\n",
            "  fatal: unable to access 'https://github.com/AI4Finance-Foundation/ElegantRL.git/': Could not resolve host: github.com\n",
            "  fatal: unable to access 'https://github.com/AI4Finance-Foundation/ElegantRL.git/': Could not resolve host: github.com\n",
            "  error: unable to read sha1 file of rlsolver/methods/iSCO/config/__init__.py (ddf041e56f34327fdfc82cf8c9b6250be45324ed)\n",
            "  fatal: unable to access 'https://github.com/AI4Finance-Foundation/ElegantRL.git/': Could not resolve host: github.com\n",
            "  fatal: unable to access 'https://github.com/AI4Finance-Foundation/ElegantRL.git/': Could not resolve host: github.com\n",
            "  error: unable to read sha1 file of rlsolver/methods/iSCO/config/maxcut_config.py (94b449da5d2a8669e6b2bf44b757fbfa05a62d09)\n",
            "  fatal: unable to access 'https://github.com/AI4Finance-Foundation/ElegantRL.git/': Could not resolve host: github.com\n",
            "  fatal: unable to access 'https://github.com/AI4Finance-Foundation/ElegantRL.git/': Could not resolve host: github.com\n",
            "  error: unable to read sha1 file of rlsolver/methods/iSCO/config/mis_config.py (d36b02c014c958ef6787b3225ce5e949a73c7b16)\n",
            "  fatal: unable to access 'https://github.com/AI4Finance-Foundation/ElegantRL.git/': Could not resolve host: github.com\n",
            "  fatal: unable to access 'https://github.com/AI4Finance-Foundation/ElegantRL.git/': Could not resolve host: github.com\n",
            "  error: unable to read sha1 file of rlsolver/methods/iSCO/config/tsp_config.py (e3a89dbd8c2065b14d41cb0b3dd546f7da2d6d1e)\n",
            "  fatal: unable to access 'https://github.com/AI4Finance-Foundation/ElegantRL.git/': Could not resolve host: github.com\n",
            "  fatal: unable to access 'https://github.com/AI4Finance-Foundation/ElegantRL.git/': Could not resolve host: github.com\n",
            "  error: unable to read sha1 file of rlsolver/methods/iSCO/main_maxcut.py (c4a315409a414bdb9b805414f3c02e79cdcb53aa)\n",
            "  fatal: unable to access 'https://github.com/AI4Finance-Foundation/ElegantRL.git/': Could not resolve host: github.com\n",
            "  fatal: unable to access 'https://github.com/AI4Finance-Foundation/ElegantRL.git/': Could not resolve host: github.com\n",
            "  error: unable to read sha1 file of rlsolver/methods/iSCO/main_mis.py (e28974413d9a0c9cdde6b827d8b274b51fe32a10)\n",
            "  fatal: unable to access 'https://github.com/AI4Finance-Foundation/ElegantRL.git/': Could not resolve host: github.com\n",
            "  fatal: unable to access 'https://github.com/AI4Finance-Foundation/ElegantRL.git/': Could not resolve host: github.com\n",
            "  error: unable to read sha1 file of rlsolver/methods/iSCO/main_tsp.py (8830891bf2d93b6d668c4fe82a92915b29eb8d6b)\n",
            "  fatal: unable to access 'https://github.com/AI4Finance-Foundation/ElegantRL.git/': Could not resolve host: github.com\n",
            "  fatal: unable to access 'https://github.com/AI4Finance-Foundation/ElegantRL.git/': Could not resolve host: github.com\n",
            "  error: unable to read sha1 file of rlsolver/methods/iSCO/util/__init__.py (8d06a70197a841a4b4d28ed3601b87afc0612a24)\n",
            "  fatal: unable to access 'https://github.com/AI4Finance-Foundation/ElegantRL.git/': Could not resolve host: github.com\n",
            "  fatal: unable to access 'https://github.com/AI4Finance-Foundation/ElegantRL.git/': Could not resolve host: github.com\n",
            "  error: unable to read sha1 file of rlsolver/methods/iSCO/util/math_util.py (f005569d1b7b2cf64ab778dc820c046b23fd166f)\n",
            "  fatal: unable to access 'https://github.com/AI4Finance-Foundation/ElegantRL.git/': Could not resolve host: github.com\n",
            "  fatal: unable to access 'https://github.com/AI4Finance-Foundation/ElegantRL.git/': Could not resolve host: github.com\n",
            "  error: unable to read sha1 file of rlsolver/methods/iSCO/util/maxcut_util.py (eaf0f4c8b587c50709cf0da7992590b136b18b27)\n",
            "  fatal: unable to access 'https://github.com/AI4Finance-Foundation/ElegantRL.git/': Could not resolve host: github.com\n",
            "  fatal: unable to access 'https://github.com/AI4Finance-Foundation/ElegantRL.git/': Could not resolve host: github.com\n",
            "  error: unable to read sha1 file of rlsolver/methods/iSCO/util/mis_util.py (50de9ed73103502c0b22e8d7a5c29696b63e7735)\n",
            "  fatal: unable to access 'https://github.com/AI4Finance-Foundation/ElegantRL.git/': Could not resolve host: github.com\n",
            "  fatal: unable to access 'https://github.com/AI4Finance-Foundation/ElegantRL.git/': Could not resolve host: github.com\n",
            "  error: unable to read sha1 file of rlsolver/methods/iSCO/util/tsp_util.py (79d02759a5e535480b93b983df98ace874066e52)\n",
            "  fatal: unable to access 'https://github.com/AI4Finance-Foundation/ElegantRL.git/': Could not resolve host: github.com\n",
            "  fatal: unable to access 'https://github.com/AI4Finance-Foundation/ElegantRL.git/': Could not resolve host: github.com\n",
            "  error: unable to read sha1 file of rlsolver/methods/mcpg.py (3f240461275f9f70cc91967ea5e8b668ce2b0b22)\n",
            "  fatal: unable to access 'https://github.com/AI4Finance-Foundation/ElegantRL.git/': Could not resolve host: github.com\n",
            "  fatal: unable to access 'https://github.com/AI4Finance-Foundation/ElegantRL.git/': Could not resolve host: github.com\n",
            "  error: unable to read sha1 file of rlsolver/methods/mcpg_single_file.py (e992212410c1d0ea19f925efffaf56f07f929dd8)\n",
            "  fatal: unable to access 'https://github.com/AI4Finance-Foundation/ElegantRL.git/': Could not resolve host: github.com\n",
            "  fatal: unable to access 'https://github.com/AI4Finance-Foundation/ElegantRL.git/': Could not resolve host: github.com\n",
            "  error: unable to read sha1 file of rlsolver/methods/ppo_maxcut.py (88876710d1f7fc03993e7fce5640c974ad3d3786)\n",
            "  fatal: unable to access 'https://github.com/AI4Finance-Foundation/ElegantRL.git/': Could not resolve host: github.com\n",
            "  fatal: unable to access 'https://github.com/AI4Finance-Foundation/ElegantRL.git/': Could not resolve host: github.com\n",
            "  error: unable to read sha1 file of rlsolver/methods/quantum.py (d00f9acba9a135486649a3239acb8100c8cb7b7e)\n",
            "  fatal: unable to access 'https://github.com/AI4Finance-Foundation/ElegantRL.git/': Could not resolve host: github.com\n",
            "  fatal: unable to access 'https://github.com/AI4Finance-Foundation/ElegantRL.git/': Could not resolve host: github.com\n",
            "  error: unable to read sha1 file of rlsolver/methods/random_walk.py (5a3d7681be67f050b07f35a5c7f0e02e988d4c9c)\n",
            "  fatal: unable to access 'https://github.com/AI4Finance-Foundation/ElegantRL.git/': Could not resolve host: github.com\n",
            "  fatal: unable to access 'https://github.com/AI4Finance-Foundation/ElegantRL.git/': Could not resolve host: github.com\n",
            "  error: unable to read sha1 file of rlsolver/methods/scip.py (57a68ea8a51b66d1451f6072983c64591d7c02b0)\n",
            "  fatal: unable to access 'https://github.com/AI4Finance-Foundation/ElegantRL.git/': Could not resolve host: github.com\n",
            "  fatal: unable to access 'https://github.com/AI4Finance-Foundation/ElegantRL.git/': Could not resolve host: github.com\n",
            "  error: unable to read sha1 file of rlsolver/methods/sdp.py (633e93db6bce81a615e36aaa36757ef63a6bbabf)\n",
            "  fatal: unable to access 'https://github.com/AI4Finance-Foundation/ElegantRL.git/': Could not resolve host: github.com\n",
            "  fatal: unable to access 'https://github.com/AI4Finance-Foundation/ElegantRL.git/': Could not resolve host: github.com\n",
            "  error: unable to read sha1 file of rlsolver/methods/simulated_annealing.py (76a50b65cecccf14c2fc424038558db80bd7d4a9)\n",
            "  fatal: unable to access 'https://github.com/AI4Finance-Foundation/ElegantRL.git/': Could not resolve host: github.com\n",
            "  fatal: unable to access 'https://github.com/AI4Finance-Foundation/ElegantRL.git/': Could not resolve host: github.com\n",
            "  error: unable to read sha1 file of rlsolver/methods/tsp_alg/christofides.py (d1e153c1aae12f5f1348dc4f1fe03024b165d152)\n",
            "  fatal: unable to access 'https://github.com/AI4Finance-Foundation/ElegantRL.git/': Could not resolve host: github.com\n",
            "  fatal: unable to access 'https://github.com/AI4Finance-Foundation/ElegantRL.git/': Could not resolve host: github.com\n",
            "  error: unable to read sha1 file of rlsolver/methods/tsp_alg/config.py (b080d85f2c63a03d028402e340918500d8816a58)\n",
            "  fatal: unable to access 'https://github.com/AI4Finance-Foundation/ElegantRL.git/': Could not resolve host: github.com\n",
            "  fatal: unable to access 'https://github.com/AI4Finance-Foundation/ElegantRL.git/': Could not resolve host: github.com\n",
            "  error: unable to read sha1 file of rlsolver/methods/tsp_alg/ga.py (6dd6b11d9cde97a27c62e4c33d7c823d3c1a349b)\n",
            "  fatal: unable to access 'https://github.com/AI4Finance-Foundation/ElegantRL.git/': Could not resolve host: github.com\n",
            "  fatal: unable to access 'https://github.com/AI4Finance-Foundation/ElegantRL.git/': Could not resolve host: github.com\n",
            "  error: unable to read sha1 file of rlsolver/methods/tsp_alg/gksp.py (a864131ab8202519a2bcbefac538df0e6b777a69)\n",
            "  fatal: unable to access 'https://github.com/AI4Finance-Foundation/ElegantRL.git/': Could not resolve host: github.com\n",
            "  fatal: unable to access 'https://github.com/AI4Finance-Foundation/ElegantRL.git/': Could not resolve host: github.com\n",
            "  error: unable to read sha1 file of rlsolver/methods/tsp_alg/ins_c.py (5dc104d6d8deaf157f6eb577d1ec0cf39f16ea79)\n",
            "  fatal: unable to access 'https://github.com/AI4Finance-Foundation/ElegantRL.git/': Could not resolve host: github.com\n",
            "  fatal: unable to access 'https://github.com/AI4Finance-Foundation/ElegantRL.git/': Could not resolve host: github.com\n",
            "  error: unable to read sha1 file of rlsolver/methods/tsp_alg/ins_f.py (c2a0b483dd82fb48f8fceb81e2d789e5c5e01e01)\n",
            "  fatal: unable to access 'https://github.com/AI4Finance-Foundation/ElegantRL.git/': Could not resolve host: github.com\n",
            "  fatal: unable to access 'https://github.com/AI4Finance-Foundation/ElegantRL.git/': Could not resolve host: github.com\n",
            "  error: unable to read sha1 file of rlsolver/methods/tsp_alg/ins_n.py (f0f0668b70d1e092be5b353a45f6bdb6bdb96b65)\n",
            "  fatal: unable to access 'https://github.com/AI4Finance-Foundation/ElegantRL.git/': Could not resolve host: github.com\n",
            "  fatal: unable to access 'https://github.com/AI4Finance-Foundation/ElegantRL.git/': Could not resolve host: github.com\n",
            "  error: unable to read sha1 file of rlsolver/methods/tsp_alg/main.py (2dba211aee7eff6a96cb7239ff47122a84239ff8)\n",
            "  fatal: unable to access 'https://github.com/AI4Finance-Foundation/ElegantRL.git/': Could not resolve host: github.com\n",
            "  fatal: unable to access 'https://github.com/AI4Finance-Foundation/ElegantRL.git/': Could not resolve host: github.com\n",
            "  error: unable to read sha1 file of rlsolver/methods/tsp_alg/nn.py (43eee00c008cdb8bb0a39bdea0d2ed9356a8e801)\n",
            "  fatal: unable to access 'https://github.com/AI4Finance-Foundation/ElegantRL.git/': Could not resolve host: github.com\n",
            "  fatal: unable to access 'https://github.com/AI4Finance-Foundation/ElegantRL.git/': Could not resolve host: github.com\n",
            "  error: unable to read sha1 file of rlsolver/methods/tsp_alg/opt_2.py (68c2b0226356c93cf3f772a95eded3a9cacd3ab3)\n",
            "  fatal: unable to access 'https://github.com/AI4Finance-Foundation/ElegantRL.git/': Could not resolve host: github.com\n",
            "  fatal: unable to access 'https://github.com/AI4Finance-Foundation/ElegantRL.git/': Could not resolve host: github.com\n",
            "  error: unable to read sha1 file of rlsolver/methods/tsp_alg/opt_3.py (54bb7bdf96362c88ca00c890185b62bf84c9c766)\n",
            "  fatal: unable to access 'https://github.com/AI4Finance-Foundation/ElegantRL.git/': Could not resolve host: github.com\n",
            "  fatal: unable to access 'https://github.com/AI4Finance-Foundation/ElegantRL.git/': Could not resolve host: github.com\n",
            "  error: unable to read sha1 file of rlsolver/methods/tsp_alg/s_tabu.py (29d539eeadd4f562cbe530992b7c183e938c5265)\n",
            "  fatal: unable to access 'https://github.com/AI4Finance-Foundation/ElegantRL.git/': Could not resolve host: github.com\n",
            "  fatal: unable to access 'https://github.com/AI4Finance-Foundation/ElegantRL.git/': Could not resolve host: github.com\n",
            "  error: unable to read sha1 file of rlsolver/methods/tsp_alg/sa.py (6b70b256edab2f5072a206a3d763b70d66d58749)\n",
            "  fatal: unable to access 'https://github.com/AI4Finance-Foundation/ElegantRL.git/': Could not resolve host: github.com\n",
            "  fatal: unable to access 'https://github.com/AI4Finance-Foundation/ElegantRL.git/': Could not resolve host: github.com\n",
            "  error: unable to read sha1 file of rlsolver/methods/tsp_alg/util.py (22ef10dc92800204f33360cd3dd12354adb72f46)\n",
            "  fatal: unable to access 'https://github.com/AI4Finance-Foundation/ElegantRL.git/': Could not resolve host: github.com\n",
            "  fatal: unable to access 'https://github.com/AI4Finance-Foundation/ElegantRL.git/': Could not resolve host: github.com\n",
            "  error: unable to read sha1 file of rlsolver/methods/util.py (4aa1cb5f1b17558ced01c5aa1edf42cf3bc6bcb3)\n",
            "  fatal: unable to access 'https://github.com/AI4Finance-Foundation/ElegantRL.git/': Could not resolve host: github.com\n",
            "  fatal: unable to access 'https://github.com/AI4Finance-Foundation/ElegantRL.git/': Could not resolve host: github.com\n",
            "  error: unable to read sha1 file of rlsolver/methods/util_generate.py (5af767daf1a3831df48235c8d0f0aa40c83587c9)\n",
            "  fatal: unable to access 'https://github.com/AI4Finance-Foundation/ElegantRL.git/': Could not resolve host: github.com\n",
            "  fatal: unable to access 'https://github.com/AI4Finance-Foundation/ElegantRL.git/': Could not resolve host: github.com\n",
            "  error: unable to read sha1 file of rlsolver/methods/util_generate_tsp.py (5a508e474d355456f7e018a6ae4e1aedf573470f)\n",
            "  fatal: unable to access 'https://github.com/AI4Finance-Foundation/ElegantRL.git/': Could not resolve host: github.com\n",
            "  fatal: unable to access 'https://github.com/AI4Finance-Foundation/ElegantRL.git/': Could not resolve host: github.com\n",
            "  error: unable to read sha1 file of rlsolver/methods/util_obj.py (73e328b2b6e0745737db90a5ca56533648326381)\n",
            "  fatal: unable to access 'https://github.com/AI4Finance-Foundation/ElegantRL.git/': Could not resolve host: github.com\n",
            "  fatal: unable to access 'https://github.com/AI4Finance-Foundation/ElegantRL.git/': Could not resolve host: github.com\n",
            "  error: unable to read sha1 file of rlsolver/methods/util_read_data.py (5b43ba018af3ba6d0102dda095eb842160747263)\n",
            "  fatal: unable to access 'https://github.com/AI4Finance-Foundation/ElegantRL.git/': Could not resolve host: github.com\n",
            "  fatal: unable to access 'https://github.com/AI4Finance-Foundation/ElegantRL.git/': Could not resolve host: github.com\n",
            "  error: unable to read sha1 file of rlsolver/methods/util_result.py (ceadc2838c8f479884ff1c9d7aa0c16dd6795c13)\n",
            "  fatal: unable to access 'https://github.com/AI4Finance-Foundation/ElegantRL.git/': Could not resolve host: github.com\n",
            "  fatal: unable to access 'https://github.com/AI4Finance-Foundation/ElegantRL.git/': Could not resolve host: github.com\n",
            "  error: unable to read sha1 file of rlsolver/requirements.txt (35faaac0158a152d62d06b38e68786f586807945)\n",
            "  fatal: unable to access 'https://github.com/AI4Finance-Foundation/ElegantRL.git/': Could not resolve host: github.com\n",
            "  fatal: unable to access 'https://github.com/AI4Finance-Foundation/ElegantRL.git/': Could not resolve host: github.com\n",
            "  error: unable to read sha1 file of rlsolver/result/automatic_statistical_results.py (25437a635949d3d837eaf4b996cca1ff04ce82af)\n",
            "  fatal: unable to access 'https://github.com/AI4Finance-Foundation/ElegantRL.git/': Could not resolve host: github.com\n",
            "  fatal: unable to access 'https://github.com/AI4Finance-Foundation/ElegantRL.git/': Could not resolve host: github.com\n",
            "  error: unable to read sha1 file of rlsolver/result/barabasi_albert_9_ID0_1.txt (18e2a2be55408dc065dc7fff3eba2909b1c33ce4)\n",
            "  fatal: unable to access 'https://github.com/AI4Finance-Foundation/ElegantRL.git/': Could not resolve host: github.com\n",
            "  fatal: unable to access 'https://github.com/AI4Finance-Foundation/ElegantRL.git/': Could not resolve host: github.com\n",
            "  error: unable to read sha1 file of setup.py (840188eb8a5f12a167e728e80d54b9926853e383)\n",
            "  fatal: unable to access 'https://github.com/AI4Finance-Foundation/ElegantRL.git/': Could not resolve host: github.com\n",
            "  fatal: unable to access 'https://github.com/AI4Finance-Foundation/ElegantRL.git/': Could not resolve host: github.com\n",
            "  error: unable to read sha1 file of tutorial_BipedalWalker_v3.ipynb (6622e294087723110bbb602217844161775fbb9d)\n",
            "  fatal: unable to access 'https://github.com/AI4Finance-Foundation/ElegantRL.git/': Could not resolve host: github.com\n",
            "  fatal: unable to access 'https://github.com/AI4Finance-Foundation/ElegantRL.git/': Could not resolve host: github.com\n",
            "  error: unable to read sha1 file of tutorial_Creating_ChasingVecEnv.ipynb (e366491e9aa471ccabd8645291eaee5e8cd02f8d)\n",
            "  fatal: unable to access 'https://github.com/AI4Finance-Foundation/ElegantRL.git/': Could not resolve host: github.com\n",
            "  fatal: unable to access 'https://github.com/AI4Finance-Foundation/ElegantRL.git/': Could not resolve host: github.com\n",
            "  error: unable to read sha1 file of tutorial_LunarLanderContinuous_v2.ipynb (4d0d84d9a7ff5c1903da833b788323f968a352a9)\n",
            "  fatal: unable to access 'https://github.com/AI4Finance-Foundation/ElegantRL.git/': Could not resolve host: github.com\n",
            "  fatal: unable to access 'https://github.com/AI4Finance-Foundation/ElegantRL.git/': Could not resolve host: github.com\n",
            "  error: unable to read sha1 file of tutorial_helloworld_DQN_DDPG_PPO.ipynb (36440436506981ac4bef9c9a135700158e4e5d7d)\n",
            "  fatal: unable to access 'https://github.com/AI4Finance-Foundation/ElegantRL.git/': Could not resolve host: github.com\n",
            "  fatal: unable to access 'https://github.com/AI4Finance-Foundation/ElegantRL.git/': Could not resolve host: github.com\n",
            "  error: unable to read sha1 file of unit_tests/agents/test_agents.py (caf227b60a05cc89b9ee207d65a8732f7fb6ddbd)\n",
            "  fatal: unable to access 'https://github.com/AI4Finance-Foundation/ElegantRL.git/': Could not resolve host: github.com\n",
            "  fatal: unable to access 'https://github.com/AI4Finance-Foundation/ElegantRL.git/': Could not resolve host: github.com\n",
            "  error: unable to read sha1 file of unit_tests/agents/test_net.py (9d95a94cd59ee0f01b153c7d73f9eb21c057b273)\n",
            "  fatal: unable to access 'https://github.com/AI4Finance-Foundation/ElegantRL.git/': Could not resolve host: github.com\n",
            "  fatal: unable to access 'https://github.com/AI4Finance-Foundation/ElegantRL.git/': Could not resolve host: github.com\n",
            "  error: unable to read sha1 file of unit_tests/envs/test_env.py (f500f6ee9ce388cafaba05239927485448163355)\n",
            "  fatal: unable to access 'https://github.com/AI4Finance-Foundation/ElegantRL.git/': Could not resolve host: github.com\n",
            "  fatal: unable to access 'https://github.com/AI4Finance-Foundation/ElegantRL.git/': Could not resolve host: github.com\n",
            "  error: unable to read sha1 file of unit_tests/envs/test_isaac_env.py (1646647a4e9de2270c5935f7c2d984dc498a47ad)\n",
            "  fatal: unable to access 'https://github.com/AI4Finance-Foundation/ElegantRL.git/': Could not resolve host: github.com\n",
            "  fatal: unable to access 'https://github.com/AI4Finance-Foundation/ElegantRL.git/': Could not resolve host: github.com\n",
            "  error: unable to read sha1 file of unit_tests/envs/test_isaac_environments.py (41d807aef0e99ee23708c5f32803be6c27de8956)\n",
            "  fatal: unable to access 'https://github.com/AI4Finance-Foundation/ElegantRL.git/': Could not resolve host: github.com\n",
            "  fatal: unable to access 'https://github.com/AI4Finance-Foundation/ElegantRL.git/': Could not resolve host: github.com\n",
            "  error: unable to read sha1 file of unit_tests/train/test_config.py (9b95d2442715162628794f2ef51de1db8db8c741)\n",
            "  fatal: unable to access 'https://github.com/AI4Finance-Foundation/ElegantRL.git/': Could not resolve host: github.com\n",
            "  fatal: unable to access 'https://github.com/AI4Finance-Foundation/ElegantRL.git/': Could not resolve host: github.com\n",
            "  error: unable to read sha1 file of unit_tests/train/test_evaluator.py (5ca9202827c1cd7c64a403d098bccba239aec3ee)\n",
            "  fatal: unable to checkout working tree\n",
            "  warning: Clone succeeded, but checkout failed.\n",
            "  You can inspect what was checked out with 'git status'\n",
            "  and retry with 'git restore --source=HEAD :/'\n",
            "\n",
            "  \u001b[1;31merror\u001b[0m: \u001b[1msubprocess-exited-with-error\u001b[0m\n",
            "  \n",
            "  \u001b[31m×\u001b[0m \u001b[32mgit clone --\u001b[0m\u001b[32mfilter\u001b[0m\u001b[32m=\u001b[0m\u001b[32mblob\u001b[0m\u001b[32m:none --quiet \u001b[0m\u001b[4;32mhttps://github.com/AI4Finance-Foundation/ElegantRL.git\u001b[0m\u001b[32m \u001b[0m\u001b[32m/private/var/folders/k3/x2ny3m2d3y57h8xp7cr2qxv80000gn/T/pip-install-epyn0n44/\u001b[0m\u001b[32melegantrl_d582bb611b3d4b279413d4a7636f77a0\u001b[0m did not run successfully.\n",
            "  \u001b[31m│\u001b[0m exit code: \u001b[1;36m128\u001b[0m\n",
            "  \u001b[31m╰─>\u001b[0m See above for output.\n",
            "  \n",
            "  \u001b[1;35mnote\u001b[0m: This error originates from a subprocess, and is likely not a problem with pip.\n",
            "\u001b[1;31merror\u001b[0m: \u001b[1msubprocess-exited-with-error\u001b[0m\n",
            "\n",
            "\u001b[31m×\u001b[0m \u001b[32mgit clone --\u001b[0m\u001b[32mfilter\u001b[0m\u001b[32m=\u001b[0m\u001b[32mblob\u001b[0m\u001b[32m:none --quiet \u001b[0m\u001b[4;32mhttps://github.com/AI4Finance-Foundation/ElegantRL.git\u001b[0m\u001b[32m \u001b[0m\u001b[32m/private/var/folders/k3/x2ny3m2d3y57h8xp7cr2qxv80000gn/T/pip-install-epyn0n44/\u001b[0m\u001b[32melegantrl_d582bb611b3d4b279413d4a7636f77a0\u001b[0m did not run successfully.\n",
            "\u001b[31m│\u001b[0m exit code: \u001b[1;36m128\u001b[0m\n",
            "\u001b[31m╰─>\u001b[0m See above for output.\n",
            "\n",
            "\u001b[1;35mnote\u001b[0m: This error originates from a subprocess, and is likely not a problem with pip.\n"
          ]
        }
      ],
      "source": [
        "## install finrl library\n",
        "!pip install git+https://github.com/AI4Finance-Foundation/FinRL.git"
      ]
    },
    {
      "cell_type": "code",
      "execution_count": 17,
      "metadata": {
        "id": "j37flV31OJGW"
      },
      "outputs": [],
      "source": [
        "import pandas as pd\n",
        "import numpy as np\n",
        "import datetime\n",
        "import yfinance as yf\n",
        "\n",
        "from finrl.meta.preprocessor.yahoodownloader import YahooDownloader\n",
        "from finrl.meta.preprocessor.preprocessors import FeatureEngineer, data_split\n",
        "from finrl import config_tickers\n",
        "from finrl.config import INDICATORS\n",
        "\n",
        "import itertools"
      ]
    },
    {
      "cell_type": "markdown",
      "metadata": {
        "id": "wxsN8i7tg07U"
      },
      "source": [
        "# Part 2. Fetch data"
      ]
    },
    {
      "cell_type": "markdown",
      "metadata": {
        "id": "fMNm9tCMXy8J"
      },
      "source": [
        "[yfinance](https://github.com/ranaroussi/yfinance) is an open-source library that provides APIs fetching historical data form Yahoo Finance. In FinRL, we have a class called [YahooDownloader](https://github.com/AI4Finance-Foundation/FinRL/blob/master/finrl/meta/preprocessor/yahoodownloader.py) that use yfinance to fetch data from Yahoo Finance."
      ]
    },
    {
      "cell_type": "markdown",
      "metadata": {
        "id": "CWVXUkzaZE8m"
      },
      "source": [
        "**OHLCV**: Data downloaded are in the form of OHLCV, corresponding to **open, high, low, close, volume,** respectively. OHLCV is important because they contain most of numerical information of a stock in time series. From OHLCV, traders can get further judgement and prediction like the momentum, people's interest, market trends, etc."
      ]
    },
    {
      "cell_type": "markdown",
      "metadata": {
        "id": "jRYlbdMpW9Np"
      },
      "source": [
        "## Data for a single ticker"
      ]
    },
    {
      "cell_type": "markdown",
      "metadata": {
        "id": "1wo6pCQYXDbz"
      },
      "source": [
        "Here we provide two ways to fetch data with single ticker, let's take Apple Inc. (AAPL) as an example."
      ]
    },
    {
      "cell_type": "markdown",
      "metadata": {
        "id": "yzVRe90WXLB1"
      },
      "source": [
        "### Using yfinance"
      ]
    },
    {
      "cell_type": "code",
      "execution_count": 18,
      "metadata": {
        "colab": {
          "base_uri": "https://localhost:8080/"
        },
        "id": "SSl6mVV7XNw6",
        "outputId": "460c06eb-c71d-4ebb-fe17-481295d70cff"
      },
      "outputs": [
        {
          "name": "stderr",
          "output_type": "stream",
          "text": [
            "[*********************100%***********************]  1 of 1 completed\n"
          ]
        }
      ],
      "source": [
        "aapl_df_yf = yf.download(tickers = \"aapl\", start='2020-01-01', end='2020-01-31')"
      ]
    },
    {
      "cell_type": "code",
      "execution_count": 19,
      "metadata": {
        "colab": {
          "base_uri": "https://localhost:8080/",
          "height": 238
        },
        "id": "Rjutz22rXrpR",
        "outputId": "62aadc8c-b854-403d-ac73-6cf86d53fa22"
      },
      "outputs": [
        {
          "data": {
            "text/html": [
              "<div>\n",
              "<style scoped>\n",
              "    .dataframe tbody tr th:only-of-type {\n",
              "        vertical-align: middle;\n",
              "    }\n",
              "\n",
              "    .dataframe tbody tr th {\n",
              "        vertical-align: top;\n",
              "    }\n",
              "\n",
              "    .dataframe thead th {\n",
              "        text-align: right;\n",
              "    }\n",
              "</style>\n",
              "<table border=\"1\" class=\"dataframe\">\n",
              "  <thead>\n",
              "    <tr style=\"text-align: right;\">\n",
              "      <th></th>\n",
              "      <th>Open</th>\n",
              "      <th>High</th>\n",
              "      <th>Low</th>\n",
              "      <th>Close</th>\n",
              "      <th>Adj Close</th>\n",
              "      <th>Volume</th>\n",
              "    </tr>\n",
              "    <tr>\n",
              "      <th>Date</th>\n",
              "      <th></th>\n",
              "      <th></th>\n",
              "      <th></th>\n",
              "      <th></th>\n",
              "      <th></th>\n",
              "      <th></th>\n",
              "    </tr>\n",
              "  </thead>\n",
              "  <tbody>\n",
              "    <tr>\n",
              "      <th>2020-01-02</th>\n",
              "      <td>74.059998</td>\n",
              "      <td>75.150002</td>\n",
              "      <td>73.797501</td>\n",
              "      <td>75.087502</td>\n",
              "      <td>72.876129</td>\n",
              "      <td>135480400</td>\n",
              "    </tr>\n",
              "    <tr>\n",
              "      <th>2020-01-03</th>\n",
              "      <td>74.287498</td>\n",
              "      <td>75.144997</td>\n",
              "      <td>74.125000</td>\n",
              "      <td>74.357498</td>\n",
              "      <td>72.167610</td>\n",
              "      <td>146322800</td>\n",
              "    </tr>\n",
              "    <tr>\n",
              "      <th>2020-01-06</th>\n",
              "      <td>73.447502</td>\n",
              "      <td>74.989998</td>\n",
              "      <td>73.187500</td>\n",
              "      <td>74.949997</td>\n",
              "      <td>72.742630</td>\n",
              "      <td>118387200</td>\n",
              "    </tr>\n",
              "    <tr>\n",
              "      <th>2020-01-07</th>\n",
              "      <td>74.959999</td>\n",
              "      <td>75.224998</td>\n",
              "      <td>74.370003</td>\n",
              "      <td>74.597504</td>\n",
              "      <td>72.400543</td>\n",
              "      <td>108872000</td>\n",
              "    </tr>\n",
              "    <tr>\n",
              "      <th>2020-01-08</th>\n",
              "      <td>74.290001</td>\n",
              "      <td>76.110001</td>\n",
              "      <td>74.290001</td>\n",
              "      <td>75.797501</td>\n",
              "      <td>73.565208</td>\n",
              "      <td>132079200</td>\n",
              "    </tr>\n",
              "  </tbody>\n",
              "</table>\n",
              "</div>"
            ],
            "text/plain": [
              "                 Open       High        Low      Close  Adj Close     Volume\n",
              "Date                                                                        \n",
              "2020-01-02  74.059998  75.150002  73.797501  75.087502  72.876129  135480400\n",
              "2020-01-03  74.287498  75.144997  74.125000  74.357498  72.167610  146322800\n",
              "2020-01-06  73.447502  74.989998  73.187500  74.949997  72.742630  118387200\n",
              "2020-01-07  74.959999  75.224998  74.370003  74.597504  72.400543  108872000\n",
              "2020-01-08  74.290001  76.110001  74.290001  75.797501  73.565208  132079200"
            ]
          },
          "execution_count": 19,
          "metadata": {},
          "output_type": "execute_result"
        }
      ],
      "source": [
        "aapl_df_yf.head()"
      ]
    },
    {
      "cell_type": "markdown",
      "metadata": {
        "id": "fHZLDmnsXOK0"
      },
      "source": [
        "### Using FinRL"
      ]
    },
    {
      "cell_type": "markdown",
      "metadata": {
        "id": "VFB77ohNbXCc"
      },
      "source": [
        "In FinRL's YahooDownloader, we modified the data frame to the form that convenient for further data processing process. We use adjusted close price instead of close price, and add a column representing the day of a week (0-4 corresponding to Monday-Friday)."
      ]
    },
    {
      "cell_type": "code",
      "execution_count": 20,
      "metadata": {
        "colab": {
          "base_uri": "https://localhost:8080/"
        },
        "id": "7ufDHvt4XBWT",
        "outputId": "41603042-4f14-4814-c569-305d85fa7f9d"
      },
      "outputs": [
        {
          "name": "stderr",
          "output_type": "stream",
          "text": [
            "[*********************100%***********************]  1 of 1 completed"
          ]
        },
        {
          "name": "stdout",
          "output_type": "stream",
          "text": [
            "Shape of DataFrame:  (20, 8)\n"
          ]
        },
        {
          "name": "stderr",
          "output_type": "stream",
          "text": [
            "\n"
          ]
        }
      ],
      "source": [
        "aapl_df_finrl = YahooDownloader(start_date = '2020-01-01',\n",
        "                                end_date = '2020-01-31',\n",
        "                                ticker_list = ['aapl']).fetch_data()"
      ]
    },
    {
      "cell_type": "code",
      "execution_count": 21,
      "metadata": {
        "colab": {
          "base_uri": "https://localhost:8080/",
          "height": 206
        },
        "id": "_TgEjXxhXtT_",
        "outputId": "a8e8a9e2-a1ea-472e-eddf-2227e6c901d8"
      },
      "outputs": [
        {
          "data": {
            "text/html": [
              "<div>\n",
              "<style scoped>\n",
              "    .dataframe tbody tr th:only-of-type {\n",
              "        vertical-align: middle;\n",
              "    }\n",
              "\n",
              "    .dataframe tbody tr th {\n",
              "        vertical-align: top;\n",
              "    }\n",
              "\n",
              "    .dataframe thead th {\n",
              "        text-align: right;\n",
              "    }\n",
              "</style>\n",
              "<table border=\"1\" class=\"dataframe\">\n",
              "  <thead>\n",
              "    <tr style=\"text-align: right;\">\n",
              "      <th></th>\n",
              "      <th>date</th>\n",
              "      <th>open</th>\n",
              "      <th>high</th>\n",
              "      <th>low</th>\n",
              "      <th>close</th>\n",
              "      <th>volume</th>\n",
              "      <th>tic</th>\n",
              "      <th>day</th>\n",
              "    </tr>\n",
              "  </thead>\n",
              "  <tbody>\n",
              "    <tr>\n",
              "      <th>0</th>\n",
              "      <td>2020-01-02</td>\n",
              "      <td>74.059998</td>\n",
              "      <td>75.150002</td>\n",
              "      <td>73.797501</td>\n",
              "      <td>72.876129</td>\n",
              "      <td>135480400</td>\n",
              "      <td>aapl</td>\n",
              "      <td>3</td>\n",
              "    </tr>\n",
              "    <tr>\n",
              "      <th>1</th>\n",
              "      <td>2020-01-03</td>\n",
              "      <td>74.287498</td>\n",
              "      <td>75.144997</td>\n",
              "      <td>74.125000</td>\n",
              "      <td>72.167610</td>\n",
              "      <td>146322800</td>\n",
              "      <td>aapl</td>\n",
              "      <td>4</td>\n",
              "    </tr>\n",
              "    <tr>\n",
              "      <th>2</th>\n",
              "      <td>2020-01-06</td>\n",
              "      <td>73.447502</td>\n",
              "      <td>74.989998</td>\n",
              "      <td>73.187500</td>\n",
              "      <td>72.742630</td>\n",
              "      <td>118387200</td>\n",
              "      <td>aapl</td>\n",
              "      <td>0</td>\n",
              "    </tr>\n",
              "    <tr>\n",
              "      <th>3</th>\n",
              "      <td>2020-01-07</td>\n",
              "      <td>74.959999</td>\n",
              "      <td>75.224998</td>\n",
              "      <td>74.370003</td>\n",
              "      <td>72.400543</td>\n",
              "      <td>108872000</td>\n",
              "      <td>aapl</td>\n",
              "      <td>1</td>\n",
              "    </tr>\n",
              "    <tr>\n",
              "      <th>4</th>\n",
              "      <td>2020-01-08</td>\n",
              "      <td>74.290001</td>\n",
              "      <td>76.110001</td>\n",
              "      <td>74.290001</td>\n",
              "      <td>73.565208</td>\n",
              "      <td>132079200</td>\n",
              "      <td>aapl</td>\n",
              "      <td>2</td>\n",
              "    </tr>\n",
              "  </tbody>\n",
              "</table>\n",
              "</div>"
            ],
            "text/plain": [
              "         date       open       high        low      close     volume   tic  \\\n",
              "0  2020-01-02  74.059998  75.150002  73.797501  72.876129  135480400  aapl   \n",
              "1  2020-01-03  74.287498  75.144997  74.125000  72.167610  146322800  aapl   \n",
              "2  2020-01-06  73.447502  74.989998  73.187500  72.742630  118387200  aapl   \n",
              "3  2020-01-07  74.959999  75.224998  74.370003  72.400543  108872000  aapl   \n",
              "4  2020-01-08  74.290001  76.110001  74.290001  73.565208  132079200  aapl   \n",
              "\n",
              "   day  \n",
              "0    3  \n",
              "1    4  \n",
              "2    0  \n",
              "3    1  \n",
              "4    2  "
            ]
          },
          "execution_count": 21,
          "metadata": {},
          "output_type": "execute_result"
        }
      ],
      "source": [
        "aapl_df_finrl.head()"
      ]
    },
    {
      "cell_type": "markdown",
      "metadata": {
        "id": "9kcOE5nbic6R"
      },
      "source": [
        "## Data for the chosen tickers"
      ]
    },
    {
      "cell_type": "code",
      "execution_count": 22,
      "metadata": {
        "colab": {
          "base_uri": "https://localhost:8080/"
        },
        "id": "FKBjtAo2uIq5",
        "outputId": "927f682a-9cc3-4c11-c3f1-094ae811af6b"
      },
      "outputs": [
        {
          "data": {
            "text/plain": [
              "['AXP',\n",
              " 'AMGN',\n",
              " 'AAPL',\n",
              " 'BA',\n",
              " 'CAT',\n",
              " 'CSCO',\n",
              " 'CVX',\n",
              " 'GS',\n",
              " 'HD',\n",
              " 'HON',\n",
              " 'IBM',\n",
              " 'INTC',\n",
              " 'JNJ',\n",
              " 'KO',\n",
              " 'JPM',\n",
              " 'MCD',\n",
              " 'MMM',\n",
              " 'MRK',\n",
              " 'MSFT',\n",
              " 'NKE',\n",
              " 'PG',\n",
              " 'TRV',\n",
              " 'UNH',\n",
              " 'CRM',\n",
              " 'VZ',\n",
              " 'V',\n",
              " 'WBA',\n",
              " 'WMT',\n",
              " 'DIS',\n",
              " 'DOW']"
            ]
          },
          "execution_count": 22,
          "metadata": {},
          "output_type": "execute_result"
        }
      ],
      "source": [
        "config_tickers.DOW_30_TICKER"
      ]
    },
    {
      "cell_type": "code",
      "execution_count": 23,
      "metadata": {
        "id": "9xTPG4Fhc-zL"
      },
      "outputs": [],
      "source": [
        "TRAIN_START_DATE = '2009-01-01'\n",
        "TRAIN_END_DATE = '2020-07-01'\n",
        "TRADE_START_DATE = '2020-07-01'\n",
        "TRADE_END_DATE = '2021-10-29'"
      ]
    },
    {
      "cell_type": "code",
      "execution_count": 24,
      "metadata": {
        "colab": {
          "base_uri": "https://localhost:8080/"
        },
        "id": "9LblMI8CO0F3",
        "outputId": "7be76385-50eb-4e8d-f2e5-1795d77b70ba"
      },
      "outputs": [
        {
          "name": "stderr",
          "output_type": "stream",
          "text": [
            "[*********************100%***********************]  1 of 1 completed\n",
            "[*********************100%***********************]  1 of 1 completed\n",
            "[*********************100%***********************]  1 of 1 completed\n",
            "[*********************100%***********************]  1 of 1 completed\n",
            "[*********************100%***********************]  1 of 1 completed\n",
            "[*********************100%***********************]  1 of 1 completed\n",
            "[*********************100%***********************]  1 of 1 completed\n",
            "[*********************100%***********************]  1 of 1 completed\n",
            "[*********************100%***********************]  1 of 1 completed\n",
            "[*********************100%***********************]  1 of 1 completed\n",
            "[*********************100%***********************]  1 of 1 completed\n",
            "[*********************100%***********************]  1 of 1 completed\n",
            "[*********************100%***********************]  1 of 1 completed\n",
            "[*********************100%***********************]  1 of 1 completed\n",
            "[*********************100%***********************]  1 of 1 completed\n",
            "[*********************100%***********************]  1 of 1 completed\n",
            "[*********************100%***********************]  1 of 1 completed\n",
            "[*********************100%***********************]  1 of 1 completed\n",
            "[*********************100%***********************]  1 of 1 completed\n",
            "[*********************100%***********************]  1 of 1 completed\n",
            "[*********************100%***********************]  1 of 1 completed\n",
            "[*********************100%***********************]  1 of 1 completed\n",
            "[*********************100%***********************]  1 of 1 completed\n",
            "[*********************100%***********************]  1 of 1 completed\n",
            "[*********************100%***********************]  1 of 1 completed\n",
            "[*********************100%***********************]  1 of 1 completed\n",
            "[*********************100%***********************]  1 of 1 completed\n",
            "[*********************100%***********************]  1 of 1 completed\n",
            "[*********************100%***********************]  1 of 1 completed\n",
            "[*********************100%***********************]  1 of 1 completed\n"
          ]
        },
        {
          "name": "stdout",
          "output_type": "stream",
          "text": [
            "Shape of DataFrame:  (94301, 8)\n"
          ]
        }
      ],
      "source": [
        "df_raw = YahooDownloader(start_date = TRAIN_START_DATE,\n",
        "                     end_date = TRADE_END_DATE,\n",
        "                     ticker_list = config_tickers.DOW_30_TICKER).fetch_data()"
      ]
    },
    {
      "cell_type": "code",
      "execution_count": 25,
      "metadata": {
        "colab": {
          "base_uri": "https://localhost:8080/",
          "height": 206
        },
        "id": "RD9cjHzt8X3A",
        "outputId": "051acda5-c8fd-440a-a5af-6be04cfdc018"
      },
      "outputs": [
        {
          "data": {
            "text/html": [
              "<div>\n",
              "<style scoped>\n",
              "    .dataframe tbody tr th:only-of-type {\n",
              "        vertical-align: middle;\n",
              "    }\n",
              "\n",
              "    .dataframe tbody tr th {\n",
              "        vertical-align: top;\n",
              "    }\n",
              "\n",
              "    .dataframe thead th {\n",
              "        text-align: right;\n",
              "    }\n",
              "</style>\n",
              "<table border=\"1\" class=\"dataframe\">\n",
              "  <thead>\n",
              "    <tr style=\"text-align: right;\">\n",
              "      <th></th>\n",
              "      <th>date</th>\n",
              "      <th>open</th>\n",
              "      <th>high</th>\n",
              "      <th>low</th>\n",
              "      <th>close</th>\n",
              "      <th>volume</th>\n",
              "      <th>tic</th>\n",
              "      <th>day</th>\n",
              "    </tr>\n",
              "  </thead>\n",
              "  <tbody>\n",
              "    <tr>\n",
              "      <th>0</th>\n",
              "      <td>2009-01-02</td>\n",
              "      <td>3.067143</td>\n",
              "      <td>3.251429</td>\n",
              "      <td>3.041429</td>\n",
              "      <td>2.737004</td>\n",
              "      <td>746015200</td>\n",
              "      <td>AAPL</td>\n",
              "      <td>4</td>\n",
              "    </tr>\n",
              "    <tr>\n",
              "      <th>1</th>\n",
              "      <td>2009-01-02</td>\n",
              "      <td>58.590000</td>\n",
              "      <td>59.080002</td>\n",
              "      <td>57.750000</td>\n",
              "      <td>41.816162</td>\n",
              "      <td>6547900</td>\n",
              "      <td>AMGN</td>\n",
              "      <td>4</td>\n",
              "    </tr>\n",
              "    <tr>\n",
              "      <th>2</th>\n",
              "      <td>2009-01-02</td>\n",
              "      <td>18.570000</td>\n",
              "      <td>19.520000</td>\n",
              "      <td>18.400000</td>\n",
              "      <td>15.053305</td>\n",
              "      <td>10955700</td>\n",
              "      <td>AXP</td>\n",
              "      <td>4</td>\n",
              "    </tr>\n",
              "    <tr>\n",
              "      <th>3</th>\n",
              "      <td>2009-01-02</td>\n",
              "      <td>42.799999</td>\n",
              "      <td>45.560001</td>\n",
              "      <td>42.779999</td>\n",
              "      <td>33.941101</td>\n",
              "      <td>7010200</td>\n",
              "      <td>BA</td>\n",
              "      <td>4</td>\n",
              "    </tr>\n",
              "    <tr>\n",
              "      <th>4</th>\n",
              "      <td>2009-01-02</td>\n",
              "      <td>44.910000</td>\n",
              "      <td>46.980000</td>\n",
              "      <td>44.709999</td>\n",
              "      <td>30.712530</td>\n",
              "      <td>7117200</td>\n",
              "      <td>CAT</td>\n",
              "      <td>4</td>\n",
              "    </tr>\n",
              "  </tbody>\n",
              "</table>\n",
              "</div>"
            ],
            "text/plain": [
              "         date       open       high        low      close     volume   tic  \\\n",
              "0  2009-01-02   3.067143   3.251429   3.041429   2.737004  746015200  AAPL   \n",
              "1  2009-01-02  58.590000  59.080002  57.750000  41.816162    6547900  AMGN   \n",
              "2  2009-01-02  18.570000  19.520000  18.400000  15.053305   10955700   AXP   \n",
              "3  2009-01-02  42.799999  45.560001  42.779999  33.941101    7010200    BA   \n",
              "4  2009-01-02  44.910000  46.980000  44.709999  30.712530    7117200   CAT   \n",
              "\n",
              "   day  \n",
              "0    4  \n",
              "1    4  \n",
              "2    4  \n",
              "3    4  \n",
              "4    4  "
            ]
          },
          "execution_count": 25,
          "metadata": {},
          "output_type": "execute_result"
        }
      ],
      "source": [
        "df_raw.head()"
      ]
    },
    {
      "cell_type": "markdown",
      "metadata": {
        "id": "uqC6c40Zh1iH"
      },
      "source": [
        "# Part 3: Preprocess Data\n",
        "We need to check for missing data and do feature engineering to convert the data point into a state.\n",
        "* **Adding technical indicators**. In practical trading, various information needs to be taken into account, such as historical prices, current holding shares, technical indicators, etc. Here, we demonstrate two trend-following technical indicators: MACD and RSI.\n",
        "* **Adding turbulence index**. Risk-aversion reflects whether an investor prefers to protect the capital. It also influences one's trading strategy when facing different market volatility level. To control the risk in a worst-case scenario, such as financial crisis of 2007–2008, FinRL employs the turbulence index that measures extreme fluctuation of asset price."
      ]
    },
    {
      "cell_type": "markdown",
      "metadata": {
        "id": "1lQxLyWpdbAd"
      },
      "source": [
        "Hear let's take **MACD** as an example. Moving average convergence/divergence (MACD) is one of the most commonly used indicator showing bull and bear market. Its calculation is based on EMA (Exponential Moving Average indicator, measuring trend direction over a period of time.)"
      ]
    },
    {
      "cell_type": "code",
      "execution_count": 26,
      "metadata": {
        "colab": {
          "base_uri": "https://localhost:8080/"
        },
        "id": "PmKP-1ii3RLS",
        "outputId": "d514cf1a-8609-402e-ad58-df5f9100ec85"
      },
      "outputs": [
        {
          "name": "stderr",
          "output_type": "stream",
          "text": [
            "[*********************100%***********************]  1 of 1 completed"
          ]
        },
        {
          "name": "stdout",
          "output_type": "stream",
          "text": [
            "Successfully added technical indicators\n",
            "Shape of DataFrame:  (3228, 8)\n",
            "Successfully added vix\n"
          ]
        },
        {
          "name": "stderr",
          "output_type": "stream",
          "text": [
            "\n"
          ]
        },
        {
          "name": "stdout",
          "output_type": "stream",
          "text": [
            "Successfully added turbulence index\n"
          ]
        }
      ],
      "source": [
        "fe = FeatureEngineer(use_technical_indicator=True,\n",
        "                     tech_indicator_list = INDICATORS,\n",
        "                     use_vix=True,\n",
        "                     use_turbulence=True,\n",
        "                     user_defined_feature = False)\n",
        "\n",
        "processed = fe.preprocess_data(df_raw)"
      ]
    },
    {
      "cell_type": "code",
      "execution_count": 27,
      "metadata": {
        "id": "Kixon2tR3RLT"
      },
      "outputs": [],
      "source": [
        "list_ticker = processed[\"tic\"].unique().tolist()\n",
        "list_date = list(pd.date_range(processed['date'].min(),processed['date'].max()).astype(str))\n",
        "combination = list(itertools.product(list_date,list_ticker))\n",
        "\n",
        "processed_full = pd.DataFrame(combination,columns=[\"date\",\"tic\"]).merge(processed,on=[\"date\",\"tic\"],how=\"left\")\n",
        "processed_full = processed_full[processed_full['date'].isin(processed['date'])]\n",
        "processed_full = processed_full.sort_values(['date','tic'])\n",
        "\n",
        "processed_full = processed_full.fillna(0)"
      ]
    },
    {
      "cell_type": "code",
      "execution_count": 28,
      "metadata": {
        "colab": {
          "base_uri": "https://localhost:8080/",
          "height": 357
        },
        "id": "HwKJNWJSabNK",
        "outputId": "16c8080e-91b0-4e8d-9a09-44939ac69801"
      },
      "outputs": [
        {
          "data": {
            "text/html": [
              "<div>\n",
              "<style scoped>\n",
              "    .dataframe tbody tr th:only-of-type {\n",
              "        vertical-align: middle;\n",
              "    }\n",
              "\n",
              "    .dataframe tbody tr th {\n",
              "        vertical-align: top;\n",
              "    }\n",
              "\n",
              "    .dataframe thead th {\n",
              "        text-align: right;\n",
              "    }\n",
              "</style>\n",
              "<table border=\"1\" class=\"dataframe\">\n",
              "  <thead>\n",
              "    <tr style=\"text-align: right;\">\n",
              "      <th></th>\n",
              "      <th>date</th>\n",
              "      <th>tic</th>\n",
              "      <th>open</th>\n",
              "      <th>high</th>\n",
              "      <th>low</th>\n",
              "      <th>close</th>\n",
              "      <th>volume</th>\n",
              "      <th>day</th>\n",
              "      <th>macd</th>\n",
              "      <th>boll_ub</th>\n",
              "      <th>boll_lb</th>\n",
              "      <th>rsi_30</th>\n",
              "      <th>cci_30</th>\n",
              "      <th>dx_30</th>\n",
              "      <th>close_30_sma</th>\n",
              "      <th>close_60_sma</th>\n",
              "      <th>vix</th>\n",
              "      <th>turbulence</th>\n",
              "    </tr>\n",
              "  </thead>\n",
              "  <tbody>\n",
              "    <tr>\n",
              "      <th>0</th>\n",
              "      <td>2009-01-02</td>\n",
              "      <td>AAPL</td>\n",
              "      <td>3.067143</td>\n",
              "      <td>3.251429</td>\n",
              "      <td>3.041429</td>\n",
              "      <td>2.737004</td>\n",
              "      <td>746015200.0</td>\n",
              "      <td>4.0</td>\n",
              "      <td>0.0</td>\n",
              "      <td>2.95812</td>\n",
              "      <td>2.6314</td>\n",
              "      <td>100.0</td>\n",
              "      <td>66.666667</td>\n",
              "      <td>100.0</td>\n",
              "      <td>2.737004</td>\n",
              "      <td>2.737004</td>\n",
              "      <td>39.189999</td>\n",
              "      <td>0.0</td>\n",
              "    </tr>\n",
              "    <tr>\n",
              "      <th>1</th>\n",
              "      <td>2009-01-02</td>\n",
              "      <td>AMGN</td>\n",
              "      <td>58.590000</td>\n",
              "      <td>59.080002</td>\n",
              "      <td>57.750000</td>\n",
              "      <td>41.816162</td>\n",
              "      <td>6547900.0</td>\n",
              "      <td>4.0</td>\n",
              "      <td>0.0</td>\n",
              "      <td>2.95812</td>\n",
              "      <td>2.6314</td>\n",
              "      <td>100.0</td>\n",
              "      <td>66.666667</td>\n",
              "      <td>100.0</td>\n",
              "      <td>41.816162</td>\n",
              "      <td>41.816162</td>\n",
              "      <td>39.189999</td>\n",
              "      <td>0.0</td>\n",
              "    </tr>\n",
              "    <tr>\n",
              "      <th>2</th>\n",
              "      <td>2009-01-02</td>\n",
              "      <td>AXP</td>\n",
              "      <td>18.570000</td>\n",
              "      <td>19.520000</td>\n",
              "      <td>18.400000</td>\n",
              "      <td>15.053305</td>\n",
              "      <td>10955700.0</td>\n",
              "      <td>4.0</td>\n",
              "      <td>0.0</td>\n",
              "      <td>2.95812</td>\n",
              "      <td>2.6314</td>\n",
              "      <td>100.0</td>\n",
              "      <td>66.666667</td>\n",
              "      <td>100.0</td>\n",
              "      <td>15.053305</td>\n",
              "      <td>15.053305</td>\n",
              "      <td>39.189999</td>\n",
              "      <td>0.0</td>\n",
              "    </tr>\n",
              "    <tr>\n",
              "      <th>3</th>\n",
              "      <td>2009-01-02</td>\n",
              "      <td>BA</td>\n",
              "      <td>42.799999</td>\n",
              "      <td>45.560001</td>\n",
              "      <td>42.779999</td>\n",
              "      <td>33.941101</td>\n",
              "      <td>7010200.0</td>\n",
              "      <td>4.0</td>\n",
              "      <td>0.0</td>\n",
              "      <td>2.95812</td>\n",
              "      <td>2.6314</td>\n",
              "      <td>100.0</td>\n",
              "      <td>66.666667</td>\n",
              "      <td>100.0</td>\n",
              "      <td>33.941101</td>\n",
              "      <td>33.941101</td>\n",
              "      <td>39.189999</td>\n",
              "      <td>0.0</td>\n",
              "    </tr>\n",
              "    <tr>\n",
              "      <th>4</th>\n",
              "      <td>2009-01-02</td>\n",
              "      <td>CAT</td>\n",
              "      <td>44.910000</td>\n",
              "      <td>46.980000</td>\n",
              "      <td>44.709999</td>\n",
              "      <td>30.712530</td>\n",
              "      <td>7117200.0</td>\n",
              "      <td>4.0</td>\n",
              "      <td>0.0</td>\n",
              "      <td>2.95812</td>\n",
              "      <td>2.6314</td>\n",
              "      <td>100.0</td>\n",
              "      <td>66.666667</td>\n",
              "      <td>100.0</td>\n",
              "      <td>30.712530</td>\n",
              "      <td>30.712530</td>\n",
              "      <td>39.189999</td>\n",
              "      <td>0.0</td>\n",
              "    </tr>\n",
              "  </tbody>\n",
              "</table>\n",
              "</div>"
            ],
            "text/plain": [
              "         date   tic       open       high        low      close       volume  \\\n",
              "0  2009-01-02  AAPL   3.067143   3.251429   3.041429   2.737004  746015200.0   \n",
              "1  2009-01-02  AMGN  58.590000  59.080002  57.750000  41.816162    6547900.0   \n",
              "2  2009-01-02   AXP  18.570000  19.520000  18.400000  15.053305   10955700.0   \n",
              "3  2009-01-02    BA  42.799999  45.560001  42.779999  33.941101    7010200.0   \n",
              "4  2009-01-02   CAT  44.910000  46.980000  44.709999  30.712530    7117200.0   \n",
              "\n",
              "   day  macd  boll_ub  boll_lb  rsi_30     cci_30  dx_30  close_30_sma  \\\n",
              "0  4.0   0.0  2.95812   2.6314   100.0  66.666667  100.0      2.737004   \n",
              "1  4.0   0.0  2.95812   2.6314   100.0  66.666667  100.0     41.816162   \n",
              "2  4.0   0.0  2.95812   2.6314   100.0  66.666667  100.0     15.053305   \n",
              "3  4.0   0.0  2.95812   2.6314   100.0  66.666667  100.0     33.941101   \n",
              "4  4.0   0.0  2.95812   2.6314   100.0  66.666667  100.0     30.712530   \n",
              "\n",
              "   close_60_sma        vix  turbulence  \n",
              "0      2.737004  39.189999         0.0  \n",
              "1     41.816162  39.189999         0.0  \n",
              "2     15.053305  39.189999         0.0  \n",
              "3     33.941101  39.189999         0.0  \n",
              "4     30.712530  39.189999         0.0  "
            ]
          },
          "execution_count": 28,
          "metadata": {},
          "output_type": "execute_result"
        }
      ],
      "source": [
        "processed_full.head()"
      ]
    },
    {
      "cell_type": "markdown",
      "metadata": {
        "id": "ydLNxwdPIJhW"
      },
      "source": [
        "# Part 4: Save the Data"
      ]
    },
    {
      "cell_type": "markdown",
      "metadata": {
        "id": "VbMDnfukILc_"
      },
      "source": [
        "### Split the data for training and trading"
      ]
    },
    {
      "cell_type": "code",
      "execution_count": 29,
      "metadata": {
        "colab": {
          "base_uri": "https://localhost:8080/"
        },
        "id": "iEiXDdUhZP7R",
        "outputId": "554b1c09-6d6f-48fb-c724-351b40a2ddaf"
      },
      "outputs": [
        {
          "name": "stdout",
          "output_type": "stream",
          "text": [
            "83897\n",
            "9715\n"
          ]
        }
      ],
      "source": [
        "train = data_split(processed_full, TRAIN_START_DATE,TRAIN_END_DATE)\n",
        "trade = data_split(processed_full, TRADE_START_DATE,TRADE_END_DATE)\n",
        "print(len(train))\n",
        "print(len(trade))"
      ]
    },
    {
      "cell_type": "markdown",
      "metadata": {
        "id": "DflbzEV8IRhF"
      },
      "source": [
        "### Save data to csv file"
      ]
    },
    {
      "cell_type": "markdown",
      "metadata": {
        "id": "Tud3IZDzIUpd"
      },
      "source": [
        "For Colab users, you can open the virtual directory in colab and manually download the files.\n",
        "\n",
        "For users running on your local environment, the csv files should be at the same directory of this notebook."
      ]
    },
    {
      "cell_type": "code",
      "execution_count": 30,
      "metadata": {
        "id": "j2c12CpfHEjE"
      },
      "outputs": [],
      "source": [
        "train.to_csv('train_data.csv')\n",
        "trade.to_csv('trade_data.csv')"
      ]
    }
  ],
  "metadata": {
    "colab": {
      "provenance": []
    },
    "kernelspec": {
      "display_name": "Python 3",
      "name": "python3"
    },
    "language_info": {
      "name": "python",
      "version": "3.10.14"
    }
  },
  "nbformat": 4,
  "nbformat_minor": 0
}
